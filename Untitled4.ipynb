{
  "nbformat": 4,
  "nbformat_minor": 0,
  "metadata": {
    "colab": {
      "provenance": [],
      "authorship_tag": "ABX9TyPf/QDsvutqLgc+0nDZeqjy",
      "include_colab_link": true
    },
    "kernelspec": {
      "name": "python3",
      "display_name": "Python 3"
    },
    "language_info": {
      "name": "python"
    }
  },
  "cells": [
    {
      "cell_type": "markdown",
      "metadata": {
        "id": "view-in-github",
        "colab_type": "text"
      },
      "source": [
        "<a href=\"https://colab.research.google.com/github/Whywhyaaaa/DSA-58010/blob/main/Untitled4.ipynb\" target=\"_parent\"><img src=\"https://colab.research.google.com/assets/colab-badge.svg\" alt=\"Open In Colab\"/></a>"
      ]
    },
    {
      "cell_type": "code",
      "execution_count": 9,
      "metadata": {
        "colab": {
          "base_uri": "https://localhost:8080/",
          "height": 105
        },
        "id": "qmg5PcNB7K8L",
        "outputId": "314b800b-e7db-4bc9-d2fa-787839a62b7c"
      },
      "outputs": [
        {
          "output_type": "stream",
          "name": "stdout",
          "text": [
            "JANUARY\n",
            "FEBUARY\n",
            "MARCH\n",
            "APRIL\n"
          ]
        },
        {
          "output_type": "execute_result",
          "data": {
            "text/plain": [
              "'FEBUARY'"
            ],
            "application/vnd.google.colaboratory.intrinsic+json": {
              "type": "string"
            }
          },
          "metadata": {},
          "execution_count": 9
        }
      ],
      "source": [
        "#Python program that uses Linked-List to demo stack\n",
        "\n",
        "class Stack:\n",
        "  def __init__(self):\n",
        "    self.stack = []\n",
        "\n",
        "class node:\n",
        "  def __init__(self,data):\n",
        "    self.data = data\n",
        "    self.next = None   #Assigning none to data in order for it to be a null\n",
        "\n",
        "class LinkedList:\n",
        "  def __init__(self):\n",
        "    self.head = None  #Assigning none to head in order for it to be a null\n",
        "  def printList(self):\n",
        "    short = self.head\n",
        "    while(short):\n",
        "      print(short.data)\n",
        "      short = short.next\n",
        "  def is_empty(self):\n",
        "    if self.head == None:\n",
        "      return True\n",
        "    else:\n",
        "      return False\n",
        "  def pop(self):\n",
        "    if self.is_empty():\n",
        "      return None\n",
        "    else:\n",
        "      removednode = second\n",
        "      return removednode.data\n",
        "\n",
        "llist = LinkedList()\n",
        "llist.head = node('JANUARY')\n",
        "second = node(\"FEBUARY\")\n",
        "third = node('MARCH')\n",
        "fourth = node(\"APRIL\")\n",
        "\n",
        "llist.head.next = second\n",
        "second.next = third\n",
        "third.next = fourth\n",
        "\n",
        "llist.printList()\n",
        "llist.pop()"
      ]
    }
  ]
}