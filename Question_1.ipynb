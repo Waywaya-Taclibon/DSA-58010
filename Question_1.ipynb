{
  "nbformat": 4,
  "nbformat_minor": 0,
  "metadata": {
    "colab": {
      "name": "Question 1.ipynb",
      "provenance": [],
      "authorship_tag": "ABX9TyN6xFKUCdCY/KZ8TtRvvSLr",
      "include_colab_link": true
    },
    "kernelspec": {
      "name": "python3",
      "display_name": "Python 3"
    },
    "language_info": {
      "name": "python"
    }
  },
  "cells": [
    {
      "cell_type": "markdown",
      "metadata": {
        "id": "view-in-github",
        "colab_type": "text"
      },
      "source": [
        "<a href=\"https://colab.research.google.com/github/Whywhyaaaa/DSA-58010/blob/main/Question_1.ipynb\" target=\"_parent\"><img src=\"https://colab.research.google.com/assets/colab-badge.svg\" alt=\"Open In Colab\"/></a>"
      ]
    },
    {
      "cell_type": "code",
      "execution_count": 9,
      "metadata": {
        "colab": {
          "base_uri": "https://localhost:8080/"
        },
        "id": "6aDOTWkmJA9G",
        "outputId": "15c55fbe-b260-4730-884b-7758cdb298e4"
      },
      "outputs": [
        {
          "output_type": "stream",
          "name": "stdout",
          "text": [
            "16\n",
            "21\n",
            "16\n",
            "20\n"
          ]
        }
      ],
      "source": [
        "class Shape: #Parent Class\n",
        "  def Area(self): #Method 1(Parent)\n",
        "    pass\n",
        "  def Perimeter(self): #Method 2(Parent)\n",
        "    pass\n",
        "\n",
        "\n",
        "\n",
        "class Rectangle:\n",
        "  def __init__(self,side1,side2):\n",
        "    self.side1 = side1\n",
        "    self.side2 = side2\n",
        "  def Area(self):\n",
        "    print(self.side1*self.side2)\n",
        "  def Perimeter(self):\n",
        "    print(2*(self.side1+self.side2))\n",
        "\n",
        "\n",
        "\n",
        "class Square(Shape): #Child Class\n",
        "  def __init__(self,side):\n",
        "    self.side = side\n",
        "  def Area(self): #Method 1(Child)\n",
        "    print(self.side**2)\n",
        "  def Perimeter(self): #Method 2(Child)\n",
        "    print(self.side*4)\n",
        "square = Square(4)\n",
        "square.Area()\n",
        "\n",
        "rect=Rectangle(7,3)\n",
        "rect.Area()\n",
        "\n",
        "square.Perimeter()\n",
        "rect.Perimeter()\n",
        "\n",
        "#Polymorphism and inheritance in this code can be easily confused with one another due to the fact that polymorphism copies\n",
        "#the method of the parent class and then it adds something to it while on the other hand, inheritance uses simply copied\n",
        "#the method wihtout any addition or any modification to that class. In this particular code we can se observe that the class shape class\n",
        "#is the parent class and the child class is the square class because we can see that there is a parenthesis that indicates that it is linked or dependent with the shape class.\n",
        "#Also in this code, the child class copied the method Area and Perimeter, the only time the polymorphism came into view is that when it modified\n",
        "#the method and addded another code that defines it."
      ]
    }
  ]
}