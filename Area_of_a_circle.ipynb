{
  "nbformat": 4,
  "nbformat_minor": 0,
  "metadata": {
    "colab": {
      "name": "Area of a circle.ipynb",
      "provenance": [],
      "authorship_tag": "ABX9TyNqW7zInNHkjragnTVfFqtk",
      "include_colab_link": true
    },
    "kernelspec": {
      "name": "python3",
      "display_name": "Python 3"
    },
    "language_info": {
      "name": "python"
    }
  },
  "cells": [
    {
      "cell_type": "markdown",
      "metadata": {
        "id": "view-in-github",
        "colab_type": "text"
      },
      "source": [
        "<a href=\"https://colab.research.google.com/github/Whywhyaaaa/DSA-58010/blob/main/Area_of_a_circle.ipynb\" target=\"_parent\"><img src=\"https://colab.research.google.com/assets/colab-badge.svg\" alt=\"Open In Colab\"/></a>"
      ]
    },
    {
      "cell_type": "code",
      "source": [
        "class Circle():\n",
        "  def __init__(self,r,pi):\n",
        "    self.r = r\n",
        "    self.pi = pi\n",
        "\n",
        "  def Area1(self):\n",
        "    return self.pi*(self.r*self.r)\n",
        "\n",
        "  def football(self):\n",
        "    return 1/4*(self.pi*(self.r*self.r))\n",
        "            \n",
        "  def execute(self):\n",
        "    print(\"The area of the circle if input is radius \", self.Area1())\n",
        "    print(\"The area of the circle if input is diameter\", self.football())\n",
        "\n",
        "  AreaofCircle = Circle(int(input()), 3.14)\n",
        "  AreaofCircle.execute()\n"
      ],
      "metadata": {
        "colab": {
          "base_uri": "https://localhost:8080/"
        },
        "id": "cbMdXtCWaOMK",
        "outputId": "9aab6f72-b03c-4e2c-cead-085f06b57a8f"
      },
      "execution_count": 74,
      "outputs": [
        {
          "output_type": "stream",
          "name": "stdout",
          "text": [
            "5\n",
            "The area of the circle if input is radius  78.5\n",
            "The area of the circle if input is diameter 19.625\n"
          ]
        }
      ]
    }
  ]
}