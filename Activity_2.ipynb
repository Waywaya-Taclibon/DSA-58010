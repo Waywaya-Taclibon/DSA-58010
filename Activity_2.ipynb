{
  "nbformat": 4,
  "nbformat_minor": 0,
  "metadata": {
    "colab": {
      "provenance": [],
      "collapsed_sections": [],
      "authorship_tag": "ABX9TyPcRtfWb3SBlQl24ZZS2sZe",
      "include_colab_link": true
    },
    "kernelspec": {
      "name": "python3",
      "display_name": "Python 3"
    },
    "language_info": {
      "name": "python"
    }
  },
  "cells": [
    {
      "cell_type": "markdown",
      "metadata": {
        "id": "view-in-github",
        "colab_type": "text"
      },
      "source": [
        "<a href=\"https://colab.research.google.com/github/Whywhyaaaa/DSA-58010/blob/main/Activity_2.ipynb\" target=\"_parent\"><img src=\"https://colab.research.google.com/assets/colab-badge.svg\" alt=\"Open In Colab\"/></a>"
      ]
    },
    {
      "cell_type": "code",
      "execution_count": null,
      "metadata": {
        "id": "qOyEX2QMMVo3"
      },
      "outputs": [],
      "source": [
        "class Node:\n",
        "  def __init__(self,data):\n",
        "    self.data = data\n",
        "    self.next = None\n",
        "\n"
      ]
    },
    {
      "cell_type": "code",
      "source": [
        "\n",
        "#function that creates node object\n",
        "\n",
        "class Node:\n",
        "  def __init__(self, data, next=None):\n",
        "    self.data = data  # assign data\n",
        "    self.next = next  # initialize as null\n",
        "\n",
        "#Assigning values to the LinkedList\n",
        "Node1 = Node(\"2\")\n",
        "Node2 = Node(\"3\")\n",
        "Node3 = Node(\"5\")\n",
        "Node4 = Node(\"7\")\n",
        "Node5 = Node(\"11\")\n",
        "Node6 = Node(\"13\")\n",
        "Node7 = Node(\"17\")\n",
        "Node8 = Node(\"19\")\n",
        "\n",
        "#A procedure that orders the node to oroceed to the next node\n",
        "Node1.next = Node2\n",
        "Node2.next = Node3\n",
        "Node3.next = Node4\n",
        "Node4.next = Node5\n",
        "Node5.next = Node6\n",
        "Node6.next = Node7\n",
        "Node7.next = Node8\n",
        "\n",
        "#A conditional loop that prints out all the node values until it prints out none\n",
        "Masternode = Node1\n",
        "while True:\n",
        "  print(Masternode.data, \"=>\", end = ' ')\n",
        "  if Masternode.next is None:\n",
        "    print(\"None\")\n",
        "    break\n",
        "  Masternode = Masternode.next\n"
      ],
      "metadata": {
        "colab": {
          "base_uri": "https://localhost:8080/"
        },
        "id": "l3Xlyf4sNnAN",
        "outputId": "dc76cde4-6c82-42bb-9a98-c9cf69000e5c"
      },
      "execution_count": 9,
      "outputs": [
        {
          "output_type": "stream",
          "name": "stdout",
          "text": [
            "2 => 3 => 5 => 7 => 11 => 13 => 17 => 19 => None\n"
          ]
        }
      ]
    }
  ]
}