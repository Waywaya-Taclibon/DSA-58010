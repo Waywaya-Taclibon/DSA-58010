{
  "nbformat": 4,
  "nbformat_minor": 0,
  "metadata": {
    "colab": {
      "name": "Array_Operations.ipynb",
      "provenance": [],
      "authorship_tag": "ABX9TyOO57WLzEZwad0nLoqxdhBO",
      "include_colab_link": true
    },
    "kernelspec": {
      "name": "python3",
      "display_name": "Python 3"
    },
    "language_info": {
      "name": "python"
    }
  },
  "cells": [
    {
      "cell_type": "markdown",
      "metadata": {
        "id": "view-in-github",
        "colab_type": "text"
      },
      "source": [
        "<a href=\"https://colab.research.google.com/github/Whywhyaaaa/DSA-58010/blob/main/Array_Operations.ipynb\" target=\"_parent\"><img src=\"https://colab.research.google.com/assets/colab-badge.svg\" alt=\"Open In Colab\"/></a>"
      ]
    },
    {
      "cell_type": "code",
      "execution_count": 1,
      "metadata": {
        "colab": {
          "base_uri": "https://localhost:8080/"
        },
        "id": "Fdcjf1sFGG2p",
        "outputId": "f8d8a7e0-7abc-49da-edc3-0d34b6b33548"
      },
      "outputs": [
        {
          "output_type": "stream",
          "name": "stdout",
          "text": [
            "[1, 2, 3]\n"
          ]
        }
      ],
      "source": [
        "#creating an arrey of number elements \n",
        "num = [1,2,3] #3x3 matrix\n",
        "print(num)"
      ]
    },
    {
      "cell_type": "code",
      "source": [
        "#looping\n",
        "animals = [\"dog\",\"cat\",\"fish\"] #3x3 matrix\n",
        "for x in animals:\n",
        "    print(x)"
      ],
      "metadata": {
        "colab": {
          "base_uri": "https://localhost:8080/"
        },
        "id": "92vOh_xqGMeP",
        "outputId": "50968bdb-e8d6-41da-c9a7-c806d84fc75b"
      },
      "execution_count": 2,
      "outputs": [
        {
          "output_type": "stream",
          "name": "stdout",
          "text": [
            "dog\n",
            "cat\n",
            "fish\n"
          ]
        }
      ]
    },
    {
      "cell_type": "code",
      "source": [
        "#looping breaking\n",
        "animals = [\"dog\",\"cat\",\"fish\"] #3x3 matrix\n",
        "for x in animals:\n",
        "  print(x)\n",
        "  if x==\"cat\":\n",
        "    break"
      ],
      "metadata": {
        "colab": {
          "base_uri": "https://localhost:8080/"
        },
        "id": "C2Fj1ClmGPC1",
        "outputId": "5b5e5227-9098-4b72-cfe3-d378bc0f9e96"
      },
      "execution_count": 3,
      "outputs": [
        {
          "output_type": "stream",
          "name": "stdout",
          "text": [
            "dog\n",
            "cat\n"
          ]
        }
      ]
    },
    {
      "cell_type": "code",
      "source": [
        "animals = [\"dog\",\"cat\",\"fish\"]\n",
        "x=animals [2]\n",
        "y=animals [1]\n",
        "print(x)\n",
        "print(y)"
      ],
      "metadata": {
        "colab": {
          "base_uri": "https://localhost:8080/"
        },
        "id": "vPBNjU3NGQWC",
        "outputId": "edc3b3fc-6aea-4927-c6dc-272cdf045d97"
      },
      "execution_count": 4,
      "outputs": [
        {
          "output_type": "stream",
          "name": "stdout",
          "text": [
            "fish\n",
            "cat\n"
          ]
        }
      ]
    },
    {
      "cell_type": "code",
      "source": [
        "#modifying\n",
        "animals = [\"dog\",\"cat\",\"fish\"]\n",
        "animals[0]= \"bird\"\n",
        "print (animals)"
      ],
      "metadata": {
        "colab": {
          "base_uri": "https://localhost:8080/"
        },
        "id": "TCJCUMPqGRpi",
        "outputId": "e8befb0e-a108-4608-ee2c-8c38acff4aa1"
      },
      "execution_count": 5,
      "outputs": [
        {
          "output_type": "stream",
          "name": "stdout",
          "text": [
            "['bird', 'cat', 'fish']\n"
          ]
        }
      ]
    },
    {
      "cell_type": "code",
      "source": [
        "#inserting array elements \n",
        "animals = [\"dog\",\"cat\",\"fish\"]\n",
        "animals.append(\"monkey\")\n",
        "print (animals)"
      ],
      "metadata": {
        "colab": {
          "base_uri": "https://localhost:8080/"
        },
        "id": "I1XP7IxYGS1D",
        "outputId": "f51a2d6d-063e-4dd0-df37-f4d80805fac9"
      },
      "execution_count": 6,
      "outputs": [
        {
          "output_type": "stream",
          "name": "stdout",
          "text": [
            "['dog', 'cat', 'fish', 'monkey']\n"
          ]
        }
      ]
    },
    {
      "cell_type": "code",
      "source": [
        "#removing\n",
        "animals = [\"dog\",\"cat\",\"fish\"]\n",
        "animals.pop(2)\n",
        "animals.pop(1)\n",
        "print(animals)"
      ],
      "metadata": {
        "colab": {
          "base_uri": "https://localhost:8080/"
        },
        "id": "Br7IeT4DGUIz",
        "outputId": "020341db-bfb0-4ce0-91a5-171789365f30"
      },
      "execution_count": 7,
      "outputs": [
        {
          "output_type": "stream",
          "name": "stdout",
          "text": [
            "['dog']\n"
          ]
        }
      ]
    },
    {
      "cell_type": "code",
      "source": [
        "#lenght of the array\n",
        "animals = [\"dog\",\"cat\",\"fish\"]\n",
        "x=len(animals)\n",
        "print(animals)"
      ],
      "metadata": {
        "colab": {
          "base_uri": "https://localhost:8080/"
        },
        "id": "-tUdIqPhGVan",
        "outputId": "21783bb8-1630-47f7-b49e-cde684ace6a1"
      },
      "execution_count": 8,
      "outputs": [
        {
          "output_type": "stream",
          "name": "stdout",
          "text": [
            "['dog', 'cat', 'fish']\n"
          ]
        }
      ]
    },
    {
      "cell_type": "code",
      "source": [
        "import numpy as np\n",
        "num = np.array([[1,2],[3,4]])   \n",
        "print (num)"
      ],
      "metadata": {
        "colab": {
          "base_uri": "https://localhost:8080/"
        },
        "id": "Ts6dUkBeGXH2",
        "outputId": "7ec838dc-f192-4438-d66f-e916d17a41ed"
      },
      "execution_count": 9,
      "outputs": [
        {
          "output_type": "stream",
          "name": "stdout",
          "text": [
            "[[1 2]\n",
            " [3 4]]\n"
          ]
        }
      ]
    }
  ]
}