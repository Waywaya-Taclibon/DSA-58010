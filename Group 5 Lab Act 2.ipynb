{
  "nbformat": 4,
  "nbformat_minor": 0,
  "metadata": {
    "colab": {
      "provenance": [],
      "authorship_tag": "ABX9TyOYYull7PiXXTH5Q2R+WsMo",
      "include_colab_link": true
    },
    "kernelspec": {
      "name": "python3",
      "display_name": "Python 3"
    },
    "language_info": {
      "name": "python"
    }
  },
  "cells": [
    {
      "cell_type": "markdown",
      "metadata": {
        "id": "view-in-github",
        "colab_type": "text"
      },
      "source": [
        "<a href=\"https://colab.research.google.com/github/Whywhyaaaa/DSA-58010/blob/main/Group%205%20Lab%20Act%202.ipynb\" target=\"_parent\"><img src=\"https://colab.research.google.com/assets/colab-badge.svg\" alt=\"Open In Colab\"/></a>"
      ]
    },
    {
      "cell_type": "code",
      "execution_count": 36,
      "metadata": {
        "colab": {
          "base_uri": "https://localhost:8080/"
        },
        "id": "Darg_s_Si0QL",
        "outputId": "38ea8e0b-1bde-4659-c4a2-0cd8691e8d6e"
      },
      "outputs": [
        {
          "output_type": "stream",
          "name": "stdout",
          "text": [
            "Enter number of elements : 5\n",
            "1\n",
            "2\n",
            "3\n",
            "4\n",
            "5\n",
            "The Minimum value is:  1\n",
            "The Maximum Value is: 5\n"
          ]
        }
      ],
      "source": [
        "def RMin(val):\n",
        "        if len(val) == 0:\n",
        "          return None\n",
        "        if len(val) >= 1:\n",
        "          return min(val)\n",
        "        \n",
        "def RMax(val):\n",
        "        if len(val) == 0:\n",
        "          return None\n",
        "        if len(val) >= 1:\n",
        "          return max(val)\n",
        "\n",
        "# creating an empty list\n",
        "val = []\n",
        "  \n",
        "# number of elements as input\n",
        "n = int(input(\"Enter number of elements : \"))\n",
        "  \n",
        "# iterating till the range\n",
        "for i in range(0, n):\n",
        "    x = int(input())\n",
        "  \n",
        "    val.append(x) # adding the element\n",
        "\n",
        "\n",
        "print(\"The Minimum value is: \", RMin(val))\n",
        "print(\"The Maximum Value is:\", RMax(val))"
      ]
    }
  ]
}