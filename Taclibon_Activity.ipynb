{
  "nbformat": 4,
  "nbformat_minor": 0,
  "metadata": {
    "colab": {
      "provenance": [],
      "authorship_tag": "ABX9TyPQaxYAIrbANsfgTgKnsDgt",
      "include_colab_link": true
    },
    "kernelspec": {
      "name": "python3",
      "display_name": "Python 3"
    },
    "language_info": {
      "name": "python"
    }
  },
  "cells": [
    {
      "cell_type": "markdown",
      "metadata": {
        "id": "view-in-github",
        "colab_type": "text"
      },
      "source": [
        "<a href=\"https://colab.research.google.com/github/Whywhyaaaa/DSA-58010/blob/main/Taclibon_Activity.ipynb\" target=\"_parent\"><img src=\"https://colab.research.google.com/assets/colab-badge.svg\" alt=\"Open In Colab\"/></a>"
      ]
    },
    {
      "cell_type": "markdown",
      "source": [
        "Write a Python program to create an array of 10 integers and display the array items. Access individual elements through indexes and compute for the sum."
      ],
      "metadata": {
        "id": "FRr6zFY4RCuZ"
      }
    },
    {
      "cell_type": "code",
      "execution_count": 17,
      "metadata": {
        "colab": {
          "base_uri": "https://localhost:8080/"
        },
        "id": "UKzpAXpoLM__",
        "outputId": "7c582484-ca8c-491d-dfd5-181be1210909"
      },
      "outputs": [
        {
          "output_type": "stream",
          "name": "stdout",
          "text": [
            "[1, 2, 3, 4, 5, 6, 7, 8, 9, 10]\n",
            "55\n"
          ]
        }
      ],
      "source": [
        "Num = [1,2,3,4,5,6,7,8,9,10]\n",
        "print (Num)\n",
        "sum = 0\n",
        "for x in Num:\n",
        "  if x < 11:\n",
        "    sum += x\n",
        "    \n",
        "print (sum)"
      ]
    },
    {
      "cell_type": "markdown",
      "source": [
        "Write a Python program to append a new item to the end of the array. Original array: numbers = [1, 2, 3, 4, 5, 6, 7, 8, 9, 10]"
      ],
      "metadata": {
        "id": "treiQCZVRHj7"
      }
    },
    {
      "cell_type": "code",
      "source": [
        "Num = [1,2,3,4,5,6,7,8,9,10]\n",
        "Num.append(69420)\n",
        "print (Num)"
      ],
      "metadata": {
        "colab": {
          "base_uri": "https://localhost:8080/"
        },
        "id": "Rsd2Fv-4N6A8",
        "outputId": "3a1fb61f-7a2d-4ff1-dfca-27c6d36fb811"
      },
      "execution_count": 18,
      "outputs": [
        {
          "output_type": "stream",
          "name": "stdout",
          "text": [
            "[1, 2, 3, 4, 5, 6, 7, 8, 9, 10, 69420]\n"
          ]
        }
      ]
    },
    {
      "cell_type": "markdown",
      "source": [
        "Write a Python program to insert a new item before the second element in an existing array. Original array: numbers = [1, 2, 3, 4, 5, 6, 7, 8, 9, 10]\n"
      ],
      "metadata": {
        "id": "rTeLsqssROnr"
      }
    },
    {
      "cell_type": "code",
      "source": [
        "Num = [1,2,3,4,5,6,7,8,9,10]\n",
        "Num.insert(1, 20)\n",
        "print (Num)"
      ],
      "metadata": {
        "colab": {
          "base_uri": "https://localhost:8080/"
        },
        "id": "rPtFCMeIOiN7",
        "outputId": "8968a076-8a35-4bd9-b8bb-5f4fc5fd5050"
      },
      "execution_count": 19,
      "outputs": [
        {
          "output_type": "stream",
          "name": "stdout",
          "text": [
            "[1, 20, 2, 3, 4, 5, 6, 7, 8, 9, 10]\n"
          ]
        }
      ]
    },
    {
      "cell_type": "markdown",
      "source": [
        "Write a Python program to reverse the order of the items in the array.Original array: numbers = [5, 4, 3, 2, 1]"
      ],
      "metadata": {
        "id": "pG6Hz93hRSN3"
      }
    },
    {
      "cell_type": "code",
      "source": [
        "Num = [1,2,3,4,5,6,7,8,9,10]\n",
        "Num.reverse()\n",
        "print (Num)"
      ],
      "metadata": {
        "colab": {
          "base_uri": "https://localhost:8080/"
        },
        "id": "DWcduYM0Pmbt",
        "outputId": "c4530c09-92ad-46cd-a5e9-9965332ae411"
      },
      "execution_count": 21,
      "outputs": [
        {
          "output_type": "stream",
          "name": "stdout",
          "text": [
            "[10, 9, 8, 7, 6, 5, 4, 3, 2, 1]\n"
          ]
        }
      ]
    },
    {
      "cell_type": "markdown",
      "source": [
        "Write a Python program to get the length of the array. Original array: numbers = [5, 4, 3, 2, 1]"
      ],
      "metadata": {
        "id": "ZX6KvobWRrp4"
      }
    },
    {
      "cell_type": "code",
      "source": [
        "Num = [1,2,3,4,5,6,7,8,9,10]\n",
        "x = len(Num)\n",
        "print(x)"
      ],
      "metadata": {
        "colab": {
          "base_uri": "https://localhost:8080/"
        },
        "id": "WX_GuiYWQEab",
        "outputId": "0a1a3239-2381-465d-9e4b-9652f05fd876"
      },
      "execution_count": 23,
      "outputs": [
        {
          "output_type": "stream",
          "name": "stdout",
          "text": [
            "10\n"
          ]
        }
      ]
    }
  ]
}