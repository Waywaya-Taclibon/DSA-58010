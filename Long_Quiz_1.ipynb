{
  "nbformat": 4,
  "nbformat_minor": 0,
  "metadata": {
    "colab": {
      "provenance": [],
      "authorship_tag": "ABX9TyMkf0I7NLyV1Hv8YFOrlSXs",
      "include_colab_link": true
    },
    "kernelspec": {
      "name": "python3",
      "display_name": "Python 3"
    },
    "language_info": {
      "name": "python"
    }
  },
  "cells": [
    {
      "cell_type": "markdown",
      "metadata": {
        "id": "view-in-github",
        "colab_type": "text"
      },
      "source": [
        "<a href=\"https://colab.research.google.com/github/Whywhyaaaa/DSA-58010/blob/main/Long_Quiz_1.ipynb\" target=\"_parent\"><img src=\"https://colab.research.google.com/assets/colab-badge.svg\" alt=\"Open In Colab\"/></a>"
      ]
    },
    {
      "cell_type": "code",
      "execution_count": 9,
      "metadata": {
        "colab": {
          "base_uri": "https://localhost:8080/"
        },
        "id": "uWbPrfxFedH2",
        "outputId": "a6ca7c58-188e-4eb9-c53b-3c3a1cb7755b"
      },
      "outputs": [
        {
          "output_type": "stream",
          "name": "stdout",
          "text": [
            "['W', 'A', 'Y', 'W', 'A', 'Y', 'A', 'B', '.', 'T', 'A', 'C', 'L', 'I', 'B', 'O', 'N']\n",
            "['N', 'O', 'B', 'I', 'L', 'C', 'A', 'T', '.', 'B', 'A', 'Y', 'A', 'W', 'Y', 'A', 'W']\n"
          ]
        }
      ],
      "source": [
        "Myname = []\n",
        "Myname.append(\"W\")\n",
        "Myname.append(\"A\")\n",
        "Myname.append(\"Y\")\n",
        "Myname.append(\"W\")\n",
        "Myname.append(\"A\")\n",
        "Myname.append(\"Y\")\n",
        "Myname.append(\"A\")\n",
        "Myname.append(\"B\")\n",
        "Myname.append(\".\")\n",
        "Myname.append(\"T\")\n",
        "Myname.append(\"A\")\n",
        "Myname.append(\"C\")\n",
        "Myname.append(\"L\")\n",
        "Myname.append(\"I\")\n",
        "Myname.append(\"B\")\n",
        "Myname.append(\"O\")\n",
        "Myname.append(\"N\")\n",
        "print (Myname)\n",
        "reversemyname = Myname[::-1]\n",
        "print (reversemyname)"
      ]
    }
  ]
}