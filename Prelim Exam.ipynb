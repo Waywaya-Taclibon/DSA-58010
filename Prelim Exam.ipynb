{
  "nbformat": 4,
  "nbformat_minor": 0,
  "metadata": {
    "colab": {
      "provenance": [],
      "authorship_tag": "ABX9TyNsrOvqb4Oy4hyHOjnQTsb8",
      "include_colab_link": true
    },
    "kernelspec": {
      "name": "python3",
      "display_name": "Python 3"
    },
    "language_info": {
      "name": "python"
    }
  },
  "cells": [
    {
      "cell_type": "markdown",
      "metadata": {
        "id": "view-in-github",
        "colab_type": "text"
      },
      "source": [
        "<a href=\"https://colab.research.google.com/github/Whywhyaaaa/DSA-58010/blob/main/Prelim%20Exam.ipynb\" target=\"_parent\"><img src=\"https://colab.research.google.com/assets/colab-badge.svg\" alt=\"Open In Colab\"/></a>"
      ]
    },
    {
      "cell_type": "code",
      "execution_count": 10,
      "metadata": {
        "colab": {
          "base_uri": "https://localhost:8080/"
        },
        "id": "3la3Klxwl9kK",
        "outputId": "11b66f10-7828-4214-9dac-00e7e330e95b"
      },
      "outputs": [
        {
          "output_type": "stream",
          "name": "stdout",
          "text": [
            "array 0 is 1\n",
            "array 1 is 2\n",
            "array 2 is 3\n",
            "array 3 is 4\n",
            "array 4 is 5\n",
            "array 5 is 6\n",
            "array 6 is 7\n",
            "array 7 is 8\n",
            "array 8 is 9\n",
            "array 9 is 10\n",
            "the number of even numbers are: 5\n"
          ]
        }
      ],
      "source": [
        "A = [1,2,3,4,5,6,7,8,9,10] #Creates an array for the code to base on.\n",
        "lead = -1 #Created a variable wherein would determine the number of times the code would print the function.\n",
        "for x in A: #Creates a loop so that as long as there is a number in the array, it would still print.\n",
        "    lead+=1 #Adds a value to the lead variable.\n",
        "    print(\"array\", lead, \"is\", x) #prints the function and strings.\n",
        "count = 0 #Creates a variable that will determine the number of even numbers.\n",
        "\n",
        "for num in A: #Creates a loop that would add a number to the variable when the condition is met.\n",
        "  if num % 2 == 0: #The condition that needs to be met.\n",
        "    count+=1 #When the condition is met, a number is added to the variable.\n",
        "\n",
        "print (\"the number of even numbers are:\" ,count) #Prints the number of even number in the array."
      ]
    }
  ]
}