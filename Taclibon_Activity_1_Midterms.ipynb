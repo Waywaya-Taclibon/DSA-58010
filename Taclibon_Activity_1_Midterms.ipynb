{
  "nbformat": 4,
  "nbformat_minor": 0,
  "metadata": {
    "colab": {
      "provenance": [],
      "authorship_tag": "ABX9TyMtd8Pi+AbwKMUxHxy4bG3m",
      "include_colab_link": true
    },
    "kernelspec": {
      "name": "python3",
      "display_name": "Python 3"
    },
    "language_info": {
      "name": "python"
    }
  },
  "cells": [
    {
      "cell_type": "markdown",
      "metadata": {
        "id": "view-in-github",
        "colab_type": "text"
      },
      "source": [
        "<a href=\"https://colab.research.google.com/github/Whywhyaaaa/DSA-58010/blob/main/Taclibon_Activity_1_Midterms.ipynb\" target=\"_parent\"><img src=\"https://colab.research.google.com/assets/colab-badge.svg\" alt=\"Open In Colab\"/></a>"
      ]
    },
    {
      "cell_type": "code",
      "source": [
        "#python program to demo stack using Linked List\n",
        "class node:\n",
        "  def __init__(self,data):\n",
        "    self.data = data\n",
        "    self.next = None  #initialize as null\n",
        "    self.head = []\n",
        "\n",
        "class LinkedList: \n",
        "  def __init__(self):\n",
        "    self.head = None #initialize head as null\n",
        "\n",
        "  def printList(self):\n",
        "      short = self.head\n",
        "      while(short):\n",
        "        print(short.data)\n",
        "        short = short.next\n",
        "\n",
        "  def is_empty(self):\n",
        "      if self.head == None:\n",
        "        return True\n",
        "      else:\n",
        "        return False\n",
        "\n",
        "  def remove(self):\n",
        "      if self.is_empty():\n",
        "        return None\n",
        "      else:\n",
        "        removednode = fourth\n",
        "        return removednode.data\n",
        "\n",
        "\n",
        "mylist = LinkedList()\n",
        "mylist.head = node('JANUARY')\n",
        "second = node('FEBRUARY')\n",
        "third = node('MARCH')\n",
        "fourth = node('APRIL')\n",
        "\n",
        "mylist.head.next = second\n",
        "second.next = third\n",
        "third.next = fourth\n",
        "mylist.printList()\n",
        "mylist.remove()"
      ],
      "metadata": {
        "colab": {
          "base_uri": "https://localhost:8080/",
          "height": 105
        },
        "id": "ihM94FTvwHZD",
        "outputId": "4ec875f7-6e2e-4955-f43f-45033814c9f4"
      },
      "execution_count": 6,
      "outputs": [
        {
          "output_type": "stream",
          "name": "stdout",
          "text": [
            "JANUARY\n",
            "FEBRUARY\n",
            "MARCH\n",
            "APRIL\n"
          ]
        },
        {
          "output_type": "execute_result",
          "data": {
            "text/plain": [
              "'APRIL'"
            ],
            "application/vnd.google.colaboratory.intrinsic+json": {
              "type": "string"
            }
          },
          "metadata": {},
          "execution_count": 6
        }
      ]
    }
  ]
}